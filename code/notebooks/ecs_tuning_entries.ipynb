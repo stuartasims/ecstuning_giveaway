{
 "cells": [
  {
   "cell_type": "code",
   "execution_count": null,
   "metadata": {
    "code_folding": []
   },
   "outputs": [],
   "source": [
    "import ast\n",
    "entry_fields = {}\n",
    "with open('../../data/input/entry_info.txt') as file:\n",
    "    entry_fields = ast.literal_eval(file.read())\n",
    "    \n",
    "entry_fields"
   ]
  },
  {
   "cell_type": "code",
   "execution_count": null,
   "metadata": {},
   "outputs": [],
   "source": [
    "import numpy as np\n",
    "import time\n",
    "from selenium import webdriver\n",
    "from selenium.webdriver.common.keys import Keys\n",
    "\n",
    "class ecs_tuning_entry:\n",
    "    def __init__(self, dictionary):\n",
    "        for k, v in dictionary.items():\n",
    "            setattr(self, k, v)\n",
    "    \n",
    "    def generate_waiting_distribution(self, mean_seconds, st_dev=1, n_samples = 1000):\n",
    "        \"\"\"generates 1d array of size n_samples using normal distribution but only keeps values past the mean (right tail)\"\"\"\n",
    "        values = np.random.normal(loc=mean_seconds, scale = st_dev, size = (n_samples*2, 1))\n",
    "        r_tail = values[values >= mean_seconds]\n",
    "        self.wait_times = r_tail\n",
    "        \n",
    "    def generate_entries(self, n_entries):\n",
    "        \"\"\"opens chrome, navigates to ecs tuning sweepstakes and makes submission based on class attributes specified in init\"\"\"\n",
    "        entry_form = 'https://promotions.mardenkane.com/ecstuning/Amoe/register/'\n",
    "        driver = webdriver.Chrome('../../research/chromedriver.exe')\n",
    "        driver.implicitly_wait(3) # 3 seconds when trying to find any element not immediately available\n",
    "        driver.get(entry_form)\n",
    "        time.sleep(2)\n",
    "        fn_element = driver.find_element_by_xpath('/html/body/main/div[1]/div/form/div[2]/div[1]/input')\n",
    "        ln_element = driver.find_element_by_xpath(\"/html/body/main/div[1]/div/form/div[2]/div[2]/input\")\n",
    "        address_element = driver.find_element_by_xpath(\"/html/body/main/div[1]/div/form/div[3]/div[1]/input\")\n",
    "        city_element = driver.find_element_by_xpath(\"/html/body/main/div[1]/div/form/div[4]/div[1]/input\")\n",
    "        state_element = driver.find_element_by_xpath(\"/html/body/main/div[1]/div/form/div[4]/div[2]/select\")\n",
    "        zip_element = driver.find_element_by_xpath('/html/body/main/div[1]/div/form/div[4]/div[3]/input')\n",
    "        phone_element = driver.find_element_by_xpath(\"/html/body/main/div[1]/div/form/div[5]/div[1]/input\")\n",
    "        email_element = driver.find_element_by_xpath(\"/html/body/main/div[1]/div/form/div[5]/div[2]/input\")\n",
    "        consent_element = driver.find_element_by_xpath(\"/html/body/main/div[1]/div/form/div[6]/div[1]/div/label/input\")\n",
    "        marketing_consent = driver.find_element_by_xpath(\"/html/body/main/div[1]/div/form/div[6]/div[2]/div/label/input\")\n",
    "        submit_button = driver.find_element_by_xpath(\"/html/body/main/div[1]/div/form/div[7]/div/input\")\n",
    "        time.sleep(2)\n",
    "        \n",
    "        for i in range(1, n_entries, 1):\n",
    "            fn_element.click()\n",
    "            fn_element.send_keys(self.first_name)\n",
    "            ln_element.send_keys(self.last_name)\n",
    "            address_element.send_keys(self.home_address)\n",
    "            city_element.send_keys(self.city)\n",
    "            state_element.send_keys(self.state)\n",
    "            zip_element.send_keys(self.zipcode)\n",
    "            phone_element.send_keys(self.phone)\n",
    "            email_element.send_keys(self.email)\n",
    "            wait_time = self.wait_times[np.random.randint(0, len(self.wait_times)-1)]\n",
    "            print('wait_time used before submission:', wait_time)\n",
    "            time.sleep(wait_time)\n",
    "            consent_element.click()\n",
    "            marketing_consent.click()\n",
    "            submit_button.click()\n",
    "            \n",
    "            driver.close()\n",
    "        \n",
    "        \n",
    "        \n",
    "        \n",
    "\n",
    "\n",
    "    \n",
    "        \n",
    "            \n",
    "    \n",
    "\n"
   ]
  },
  {
   "cell_type": "code",
   "execution_count": null,
   "metadata": {},
   "outputs": [],
   "source": [
    "poc_test = ecs_tuning_entry(entry_fields)"
   ]
  },
  {
   "cell_type": "code",
   "execution_count": null,
   "metadata": {},
   "outputs": [],
   "source": [
    "poc_test.generate_waiting_distribution(6, 1, 10000)"
   ]
  },
  {
   "cell_type": "code",
   "execution_count": null,
   "metadata": {},
   "outputs": [],
   "source": [
    "poc_test.generate_entries(2)"
   ]
  },
  {
   "cell_type": "code",
   "execution_count": null,
   "metadata": {},
   "outputs": [],
   "source": []
  }
 ],
 "metadata": {
  "kernelspec": {
   "display_name": "Python 3",
   "language": "python",
   "name": "python3"
  },
  "language_info": {
   "codemirror_mode": {
    "name": "ipython",
    "version": 3
   },
   "file_extension": ".py",
   "mimetype": "text/x-python",
   "name": "python",
   "nbconvert_exporter": "python",
   "pygments_lexer": "ipython3",
   "version": "3.8.2"
  },
  "toc": {
   "base_numbering": 1,
   "nav_menu": {},
   "number_sections": true,
   "sideBar": true,
   "skip_h1_title": false,
   "title_cell": "Table of Contents",
   "title_sidebar": "Contents",
   "toc_cell": false,
   "toc_position": {},
   "toc_section_display": true,
   "toc_window_display": false
  }
 },
 "nbformat": 4,
 "nbformat_minor": 4
}
